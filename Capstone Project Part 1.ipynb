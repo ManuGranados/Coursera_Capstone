{
    "cells": [
        {
            "cell_type": "markdown",
            "metadata": {},
            "source": "# My Capstone Project for Data Science and Machine Learning\n\n## 1. Initial Problem and Overview\n\nLet's imagine the city council wants to create an advertising campaign to rise awareness among the car drivers in the city and to reduce car accident fatality. For this porpuse, we use the given sample database. The goal is to study which are the conditions that rise the accident probability and which are the factors that provoke fatality. After this work, we should be able to predict the conditions that lead to accidents. \n\nIn this way, the city council should be able to make an advertisement campaign in order to make the drivers aware of the danger in the most critical moments. \n\n## 2. Our available data\n\nThe available data is in the CSV file provided. It has dimensions of 194673 rows x 39 columns. The first step is to remove the useless information of the table in order to be able to handle the data with ease. We can remove the useless columns, but in this case it's easier to just select the useful ones and create a new dataframe with them. \n\nThe chosen columns are: 'SEVERITYCODE','PERSONCOUNT','PEDCOUNT','PEDCYLCOUNT','VEHCOUNT','ROADCOND','LIGHTCOND','WEATHER'. Let's keep it simple; this amount of information is enough for solving our problem. \nFor example, the factors of the accident can be the weather conditions ('WEATHER'), the light conditions ('LIGHTCOND'), or the road condition ('ROADCOND'). The target variable is the severity of the accident ('SEVERITYCODE')\n\nNow it's time to get started.\n\n\n\n## 3. Cleaning data\n\nFor this step, we'll just try to remove the rows that have missing values and see if we do not miss much information by doing that. \nThen, we can just normalise and transform the data in order to be able to work with all columns in a mathematical way. \nWe just finished the first step of the project. Now our data is preprocessed. \n"
        },
        {
            "cell_type": "code",
            "execution_count": 4,
            "metadata": {},
            "outputs": [],
            "source": "import numpy as np\nimport matplotlib.pyplot as plt\nimport pandas as pd\nimport seaborn as sns\nimport itertools\n\nfrom sklearn.linear_model import LogisticRegression\nfrom sklearn.metrics import confusion_matrix\nfrom sklearn import preprocessing\nfrom sklearn.model_selection import train_test_split\nfrom sklearn.metrics import classification_report, confusion_matrix\nfrom matplotlib.ticker import NullFormatter\nimport matplotlib.ticker as ticker\n%matplotlib inline"
        },
        {
            "cell_type": "code",
            "execution_count": 5,
            "metadata": {},
            "outputs": [],
            "source": "idf=pd.read_csv('https://s3.us.cloud-object-storage.appdomain.cloud/cf-courses-data/CognitiveClass/DP0701EN/version-2/Data-Collisions.csv',low_memory=False)"
        },
        {
            "cell_type": "code",
            "execution_count": 6,
            "metadata": {},
            "outputs": [
                {
                    "data": {
                        "text/html": "<div>\n<style scoped>\n    .dataframe tbody tr th:only-of-type {\n        vertical-align: middle;\n    }\n\n    .dataframe tbody tr th {\n        vertical-align: top;\n    }\n\n    .dataframe thead th {\n        text-align: right;\n    }\n</style>\n<table border=\"1\" class=\"dataframe\">\n  <thead>\n    <tr style=\"text-align: right;\">\n      <th></th>\n      <th>SEVERITYCODE</th>\n      <th>PERSONCOUNT</th>\n      <th>PEDCOUNT</th>\n      <th>PEDCYLCOUNT</th>\n      <th>VEHCOUNT</th>\n      <th>ROADCOND</th>\n      <th>LIGHTCOND</th>\n      <th>WEATHER</th>\n    </tr>\n  </thead>\n  <tbody>\n    <tr>\n      <th>0</th>\n      <td>2</td>\n      <td>2</td>\n      <td>0</td>\n      <td>0</td>\n      <td>2</td>\n      <td>Wet</td>\n      <td>Daylight</td>\n      <td>Overcast</td>\n    </tr>\n    <tr>\n      <th>1</th>\n      <td>1</td>\n      <td>2</td>\n      <td>0</td>\n      <td>0</td>\n      <td>2</td>\n      <td>Wet</td>\n      <td>Dark - Street Lights On</td>\n      <td>Raining</td>\n    </tr>\n    <tr>\n      <th>2</th>\n      <td>1</td>\n      <td>4</td>\n      <td>0</td>\n      <td>0</td>\n      <td>3</td>\n      <td>Dry</td>\n      <td>Daylight</td>\n      <td>Overcast</td>\n    </tr>\n    <tr>\n      <th>3</th>\n      <td>1</td>\n      <td>3</td>\n      <td>0</td>\n      <td>0</td>\n      <td>3</td>\n      <td>Dry</td>\n      <td>Daylight</td>\n      <td>Clear</td>\n    </tr>\n    <tr>\n      <th>4</th>\n      <td>2</td>\n      <td>2</td>\n      <td>0</td>\n      <td>0</td>\n      <td>2</td>\n      <td>Wet</td>\n      <td>Daylight</td>\n      <td>Raining</td>\n    </tr>\n  </tbody>\n</table>\n</div>",
                        "text/plain": "   SEVERITYCODE  PERSONCOUNT  PEDCOUNT  PEDCYLCOUNT  VEHCOUNT ROADCOND  \\\n0             2            2         0            0         2      Wet   \n1             1            2         0            0         2      Wet   \n2             1            4         0            0         3      Dry   \n3             1            3         0            0         3      Dry   \n4             2            2         0            0         2      Wet   \n\n                 LIGHTCOND   WEATHER  \n0                 Daylight  Overcast  \n1  Dark - Street Lights On   Raining  \n2                 Daylight  Overcast  \n3                 Daylight     Clear  \n4                 Daylight   Raining  "
                    },
                    "execution_count": 6,
                    "metadata": {},
                    "output_type": "execute_result"
                }
            ],
            "source": "df=idf[['SEVERITYCODE','PERSONCOUNT','PEDCOUNT','PEDCYLCOUNT','VEHCOUNT','ROADCOND','LIGHTCOND','WEATHER']]\ndf=df.dropna()\ndf.head() #This is de DF we are working with"
        },
        {
            "cell_type": "markdown",
            "metadata": {},
            "source": "\n\n\n## Now we need to transform the categorical variables into numerical ones\n\n### Let's do it"
        },
        {
            "cell_type": "code",
            "execution_count": 7,
            "metadata": {},
            "outputs": [
                {
                    "data": {
                        "text/html": "<div>\n<style scoped>\n    .dataframe tbody tr th:only-of-type {\n        vertical-align: middle;\n    }\n\n    .dataframe tbody tr th {\n        vertical-align: top;\n    }\n\n    .dataframe thead th {\n        text-align: right;\n    }\n</style>\n<table border=\"1\" class=\"dataframe\">\n  <thead>\n    <tr style=\"text-align: right;\">\n      <th></th>\n      <th>SEVERITYCODE</th>\n      <th>PERSONCOUNT</th>\n      <th>PEDCOUNT</th>\n      <th>PEDCYLCOUNT</th>\n      <th>VEHCOUNT</th>\n      <th>ROADCOND</th>\n      <th>LIGHTCOND</th>\n      <th>WEATHER</th>\n    </tr>\n  </thead>\n  <tbody>\n    <tr>\n      <th>0</th>\n      <td>2</td>\n      <td>2</td>\n      <td>0</td>\n      <td>0</td>\n      <td>2</td>\n      <td>1</td>\n      <td>0</td>\n      <td>2</td>\n    </tr>\n    <tr>\n      <th>1</th>\n      <td>1</td>\n      <td>2</td>\n      <td>0</td>\n      <td>0</td>\n      <td>2</td>\n      <td>1</td>\n      <td>1</td>\n      <td>1</td>\n    </tr>\n    <tr>\n      <th>2</th>\n      <td>1</td>\n      <td>4</td>\n      <td>0</td>\n      <td>0</td>\n      <td>3</td>\n      <td>0</td>\n      <td>0</td>\n      <td>2</td>\n    </tr>\n    <tr>\n      <th>3</th>\n      <td>1</td>\n      <td>3</td>\n      <td>0</td>\n      <td>0</td>\n      <td>3</td>\n      <td>0</td>\n      <td>0</td>\n      <td>0</td>\n    </tr>\n    <tr>\n      <th>4</th>\n      <td>2</td>\n      <td>2</td>\n      <td>0</td>\n      <td>0</td>\n      <td>2</td>\n      <td>1</td>\n      <td>0</td>\n      <td>1</td>\n    </tr>\n  </tbody>\n</table>\n</div>",
                        "text/plain": "   SEVERITYCODE  PERSONCOUNT  PEDCOUNT  PEDCYLCOUNT  VEHCOUNT  ROADCOND  \\\n0             2            2         0            0         2         1   \n1             1            2         0            0         2         1   \n2             1            4         0            0         3         0   \n3             1            3         0            0         3         0   \n4             2            2         0            0         2         1   \n\n   LIGHTCOND  WEATHER  \n0          0        2  \n1          1        1  \n2          0        2  \n3          0        0  \n4          0        1  "
                    },
                    "execution_count": 7,
                    "metadata": {},
                    "output_type": "execute_result"
                }
            ],
            "source": "df['LIGHTCOND'].replace(to_replace=['Daylight','Dark - Street Lights On','Unknown','Dusk','Dawn','Dark - No Street Lights','Dark - Street Lights Off','Other','Dark - Unknown Lighting'], value=[0,1,2,3,4,5,6,7,8],inplace=True)\ndf['WEATHER'].replace(to_replace=['Clear','Raining','Overcast','Unknown','Snowing','Other','Fog/Smog/Smoke','Sleet/Hail/Freezing Rain','Blowing Sand/Dirt','Severe Crosswind','Partly Cloudy'], value=[0,1,2,3,4,5,6,7,8,9,10],inplace=True)\ndf['ROADCOND'].replace(to_replace=['Dry','Wet','Unknown','Ice','Snow/Slush','Other','Standing Water','Sand/Mud/Dirt','Oil'], value=[0,1,2,3,4,5,6,7,8],inplace=True)\ndf.head()"
        },
        {
            "cell_type": "code",
            "execution_count": 8,
            "metadata": {},
            "outputs": [
                {
                    "data": {
                        "text/plain": "array([[2, 0, 0, 2, 1, 0, 2],\n       [2, 0, 0, 2, 1, 1, 1],\n       [4, 0, 0, 3, 0, 0, 2],\n       [3, 0, 0, 3, 0, 0, 0],\n       [2, 0, 0, 2, 1, 0, 1]])"
                    },
                    "execution_count": 8,
                    "metadata": {},
                    "output_type": "execute_result"
                }
            ],
            "source": "X = np.asarray(df[['PERSONCOUNT','PEDCOUNT','PEDCYLCOUNT','VEHCOUNT','ROADCOND','LIGHTCOND','WEATHER']])\nX[0:5]\n"
        },
        {
            "cell_type": "code",
            "execution_count": 9,
            "metadata": {},
            "outputs": [
                {
                    "data": {
                        "text/plain": "array([2, 1, 1, 1, 2])"
                    },
                    "execution_count": 9,
                    "metadata": {},
                    "output_type": "execute_result"
                }
            ],
            "source": "y = np.asarray(df['SEVERITYCODE'])\ny [0:5]"
        },
        {
            "cell_type": "code",
            "execution_count": 10,
            "metadata": {},
            "outputs": [
                {
                    "data": {
                        "text/plain": "array([[-0.33905581, -0.18992511, -0.17186752,  0.05306845,  0.70875343,\n        -0.59511457,  1.10587178],\n       [-0.33905581, -0.18992511, -0.17186752,  0.05306845,  0.70875343,\n         0.34710496,  0.20504641],\n       [ 1.13648946, -0.18992511, -0.17186752,  1.8466818 , -0.60855849,\n        -0.59511457,  1.10587178],\n       [ 0.39871683, -0.18992511, -0.17186752,  1.8466818 , -0.60855849,\n        -0.59511457, -0.69577897],\n       [-0.33905581, -0.18992511, -0.17186752,  0.05306845,  0.70875343,\n        -0.59511457,  0.20504641]])"
                    },
                    "execution_count": 10,
                    "metadata": {},
                    "output_type": "execute_result"
                }
            ],
            "source": "#Normalizing dataset\nfrom sklearn import preprocessing\nX = preprocessing.StandardScaler().fit(X).transform(X)\nX[0:5]"
        },
        {
            "cell_type": "code",
            "execution_count": 11,
            "metadata": {},
            "outputs": [
                {
                    "name": "stdout",
                    "output_type": "stream",
                    "text": "Train set: (151469, 7) (151469,)\nTest set: (37868, 7) (37868,)\n"
                }
            ],
            "source": "X_train, X_test, y_train, y_test = train_test_split( X, y, test_size=0.2, random_state=4)\nprint ('Train set:', X_train.shape,  y_train.shape)\nprint ('Test set:', X_test.shape,  y_test.shape)"
        },
        {
            "cell_type": "markdown",
            "metadata": {},
            "source": "### Now we do have 2 sets, the train set and the test set"
        },
        {
            "cell_type": "code",
            "execution_count": 12,
            "metadata": {},
            "outputs": [
                {
                    "data": {
                        "text/plain": "LogisticRegression(C=0.1, solver='liblinear')"
                    },
                    "execution_count": 12,
                    "metadata": {},
                    "output_type": "execute_result"
                }
            ],
            "source": "# NOW WE BUILD A RERESSION MODEL\nLR = LogisticRegression(C=0.1, solver='liblinear').fit(X_train,y_train)\nLR"
        },
        {
            "cell_type": "code",
            "execution_count": 13,
            "metadata": {},
            "outputs": [
                {
                    "data": {
                        "text/plain": "array([1, 1, 1, ..., 1, 1, 1])"
                    },
                    "execution_count": 13,
                    "metadata": {},
                    "output_type": "execute_result"
                }
            ],
            "source": "yhat = LR.predict(X_test)\nyhat"
        },
        {
            "cell_type": "code",
            "execution_count": 14,
            "metadata": {},
            "outputs": [
                {
                    "data": {
                        "text/plain": "array([[0.72793883, 0.27206117],\n       [0.86341207, 0.13658793],\n       [0.79577033, 0.20422967],\n       ...,\n       [0.87286552, 0.12713448],\n       [0.79515996, 0.20484004],\n       [0.7765101 , 0.2234899 ]])"
                    },
                    "execution_count": 14,
                    "metadata": {},
                    "output_type": "execute_result"
                }
            ],
            "source": "yhat_prob = LR.predict_proba(X_test)\nyhat_prob"
        },
        {
            "cell_type": "code",
            "execution_count": 67,
            "metadata": {},
            "outputs": [],
            "source": "import itertools\ndef plot_confusion_matrix(cm, classes,\n                          normalize=True,\n                          title='Confusion matrix',\n                          cmap=plt.cm.Blues):\n    \n    if normalize:\n        cm = cm.astype('float') / cm.sum(axis=1)[:, np.newaxis]\n        print(\"Normalized confusion matrix\")\n    else:\n        print('Confusion matrix, without normalization')\n\n    print(cm)\n\n    plt.imshow(cm, interpolation='nearest', cmap=cmap)\n    plt.title(title)\n    plt.colorbar()\n    tick_marks = np.arange(len(classes))\n    plt.xticks(tick_marks, classes, rotation=45)\n    plt.yticks(tick_marks, classes)\n\n    fmt = '.2f' if normalize else 'd'\n    thresh = cm.max() / 2.\n    for i, j in itertools.product(range(cm.shape[0]), range(cm.shape[1])):\n        plt.text(j, i, format(cm[i, j], fmt),\n                 horizontalalignment=\"center\",\n                 color=\"white\" if cm[i, j] > thresh else \"black\")\n\n    plt.tight_layout()\n    plt.ylabel('True SEVERITY')\n    plt.xlabel('Predicted SEVERITY')\n\nB=confusion_matrix(y_test, yhat, labels=[2,1])"
        },
        {
            "cell_type": "code",
            "execution_count": 68,
            "metadata": {},
            "outputs": [
                {
                    "name": "stdout",
                    "output_type": "stream",
                    "text": "Confusion matrix, without normalization\n[[ 2523  8983]\n [  590 25772]]\n              precision    recall  f1-score   support\n\n           1       0.74      0.98      0.84     26362\n           2       0.81      0.22      0.35     11506\n\n    accuracy                           0.75     37868\n   macro avg       0.78      0.60      0.59     37868\nweighted avg       0.76      0.75      0.69     37868\n\n"
                },
                {
                    "data": {
                        "image/png": "[encoded data removed]",
                        "text/plain": "<Figure size 432x288 with 2 Axes>"
                    },
                    "metadata": {
                        "needs_background": "light"
                    },
                    "output_type": "display_data"
                }
            ],
            "source": "nf_matrix = confusion_matrix(y_test, yhat, labels=[2,1])\nnp.set_printoptions(precision=2)\n\n\n# We plot non-normalized confusion matrix\nplt.figure()\nplot_confusion_matrix(B, classes=['2','1'],normalize= False,  title='Confusion matrix')\nprint (classification_report(y_test, yhat))\n"
        },
        {
            "cell_type": "markdown",
            "metadata": {},
            "source": "## In the confusion matrix we see that the value 0.22 is too slow. We need to improve it. The prediction is no very good."
        },
        {
            "cell_type": "code",
            "execution_count": 69,
            "metadata": {},
            "outputs": [
                {
                    "data": {
                        "text/plain": "0.5445263669406151"
                    },
                    "execution_count": 69,
                    "metadata": {},
                    "output_type": "execute_result"
                }
            ],
            "source": "from sklearn.metrics import log_loss\nlog_loss(y_test, yhat_prob) #Bad precission"
        },
        {
            "cell_type": "code",
            "execution_count": 70,
            "metadata": {},
            "outputs": [
                {
                    "name": "stdout",
                    "output_type": "stream",
                    "text": "              precision    recall  f1-score   support\n\n           1       0.78      0.80      0.79     26362\n           2       0.52      0.49      0.50     11506\n\n    accuracy                           0.71     37868\n   macro avg       0.65      0.65      0.65     37868\nweighted avg       0.70      0.71      0.70     37868\n\n"
                }
            ],
            "source": "#Now we try to make the test again with the \"balanced\" label on\n\ndef run_model_balanced(X_train, X_test, y_train, y_test):\n    clf = LogisticRegression(C=1.0,penalty='l2',random_state=1,solver=\"newton-cg\",class_weight=\"balanced\")\n    clf.fit(X_train, y_train)\n    return clf\n \nmodel = run_model_balanced(X_train, X_test, y_train, y_test)\npred_y = model.predict(X_test)\nprint(classification_report(y_test, pred_y))\n"
        },
        {
            "cell_type": "markdown",
            "metadata": {},
            "source": "## Now the results are more acceptable. Let's try another method to see if the results can be improved. "
        },
        {
            "cell_type": "code",
            "execution_count": 71,
            "metadata": {},
            "outputs": [
                {
                    "name": "stdout",
                    "output_type": "stream",
                    "text": "              precision    recall  f1-score   support\n\n           1       0.78      0.80      0.79     26362\n           2       0.52      0.49      0.50     11506\n\n    accuracy                           0.71     37868\n   macro avg       0.65      0.65      0.65     37868\nweighted avg       0.70      0.71      0.70     37868\n\n"
                }
            ],
            "source": "from imblearn.under_sampling import ClusterCentroids,NearMiss, RandomUnderSampler\ndef run_model_nr(X_train, X_test, y_train, y_test):\n    undersample_nr = NearMiss(version=2, n_neighbors=20)\n    undersample_nr.fit(X_train, y_train)\n    return undersample_nr\n\nmodel_nr = run_model_nr(X_train, X_test, y_train, y_test)\npred_y = model.predict(X_test)\nprint(classification_report(y_test, pred_y))"
        },
        {
            "cell_type": "markdown",
            "metadata": {},
            "source": "## And we get the exact same values. This is the most efficent result with this data."
        }
    ],
    "metadata": {
        "kernelspec": {
            "display_name": "Python 3.6",
            "language": "python",
            "name": "python3"
        },
        "language_info": {
            "codemirror_mode": {
                "name": "ipython",
                "version": 3
            },
            "file_extension": ".py",
            "mimetype": "text/x-python",
            "name": "python",
            "nbconvert_exporter": "python",
            "pygments_lexer": "ipython3",
            "version": "3.6.9"
        }
    },
    "nbformat": 4,
    "nbformat_minor": 1
}